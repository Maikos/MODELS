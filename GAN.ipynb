{
  "nbformat": 4,
  "nbformat_minor": 0,
  "metadata": {
    "colab": {
      "name": "GAN.ipynb",
      "version": "0.3.2",
      "provenance": [],
      "collapsed_sections": []
    },
    "kernelspec": {
      "name": "python3",
      "display_name": "Python 3"
    },
    "accelerator": "GPU"
  },
  "cells": [
    {
      "metadata": {
        "id": "r8kSvR12ASt6",
        "colab_type": "code",
        "colab": {}
      },
      "cell_type": "code",
      "source": [
        "import tensorflow as tf\n",
        "import numpy as np\n",
        "from tensorflow.examples.tutorials.mnist import input_data"
      ],
      "execution_count": 0,
      "outputs": []
    },
    {
      "metadata": {
        "id": "mj_Qaxy3plug",
        "colab_type": "code",
        "colab": {}
      },
      "cell_type": "code",
      "source": [
        "mnist = input_data.read_data_sets('/tmp/data/', one_hot= True)"
      ],
      "execution_count": 0,
      "outputs": []
    },
    {
      "metadata": {
        "id": "7r4ERF-sq4GM",
        "colab_type": "code",
        "colab": {}
      },
      "cell_type": "code",
      "source": [
        "num_steps = 100000\n",
        "bsize = 128\n",
        "learning_rate = 0.001\n",
        "\n",
        "image_d = 784 \n",
        "ghd = 256\n",
        "dhd = 256\n",
        "nd = 100"
      ],
      "execution_count": 0,
      "outputs": []
    },
    {
      "metadata": {
        "id": "603Lf7exqRvo",
        "colab_type": "code",
        "colab": {}
      },
      "cell_type": "code",
      "source": [
        "G = tf.placeholder(tf.float32,[None,nd])"
      ],
      "execution_count": 0,
      "outputs": []
    },
    {
      "metadata": {
        "id": "X4sx8XWUqaRr",
        "colab_type": "code",
        "colab": {}
      },
      "cell_type": "code",
      "source": [
        "D = tf.placeholder(tf.float32,[None,image_d])"
      ],
      "execution_count": 0,
      "outputs": []
    },
    {
      "metadata": {
        "id": "cN9fsmbgqhZW",
        "colab_type": "code",
        "colab": {}
      },
      "cell_type": "code",
      "source": [
        "def rand(shape):\n",
        "  return tf.random_normal(shape,stddev=1.0)"
      ],
      "execution_count": 0,
      "outputs": []
    },
    {
      "metadata": {
        "id": "oOGWTUZ0r7iJ",
        "colab_type": "code",
        "colab": {}
      },
      "cell_type": "code",
      "source": [
        "weights={'g1': tf.Variable(rand([nd, ghd])),'g2': tf.Variable(rand([ghd, image_d])),\n",
        "         'd1':tf.Variable(rand([image_d, dhd])),'d2':tf.Variable(rand([dhd, 1]))}"
      ],
      "execution_count": 0,
      "outputs": []
    },
    {
      "metadata": {
        "id": "sLMFGd2_sUCR",
        "colab_type": "code",
        "colab": {}
      },
      "cell_type": "code",
      "source": [
        "biases={'g1': tf.Variable(tf.zeros([ghd])),'g2': tf.Variable(tf.zeros([image_d])),\n",
        "         'd1':tf.Variable(tf.zeros([dhd])),'d2':tf.Variable(tf.zeros([1]))}"
      ],
      "execution_count": 0,
      "outputs": []
    },
    {
      "metadata": {
        "id": "96kE1PHRsUF-",
        "colab_type": "code",
        "colab": {}
      },
      "cell_type": "code",
      "source": [
        "def gen(x):\n",
        "  hl = tf.nn.relu(tf.add(tf.matmul(x,weights['g1']),biases['g1']))\n",
        "  ol = tf.nn.sigmoid(tf.add(tf.matmul(hl,weights['g2']),biases['g2']))\n",
        "  return ol\n",
        "  "
      ],
      "execution_count": 0,
      "outputs": []
    },
    {
      "metadata": {
        "id": "es_E8id7z9c3",
        "colab_type": "code",
        "colab": {}
      },
      "cell_type": "code",
      "source": [
        "def disc(x):\n",
        "  hl = tf.nn.relu(tf.add(tf.matmul(x,weights['d1']),biases['d1']))\n",
        "  ol = tf.nn.sigmoid(tf.add(tf.matmul(hl,weights['d2']),biases['d2']))\n",
        "  return ol"
      ],
      "execution_count": 0,
      "outputs": []
    },
    {
      "metadata": {
        "id": "Ucp1G4aZ0JHT",
        "colab_type": "code",
        "colab": {}
      },
      "cell_type": "code",
      "source": [
        "Greal = gen(G)"
      ],
      "execution_count": 0,
      "outputs": []
    },
    {
      "metadata": {
        "id": "p8SoII2uD5Hd",
        "colab_type": "code",
        "colab": {}
      },
      "cell_type": "code",
      "source": [
        "Dreal = disc(D)\n",
        "Dfake = disc(Greal)"
      ],
      "execution_count": 0,
      "outputs": []
    },
    {
      "metadata": {
        "id": "0722axsjEazQ",
        "colab_type": "code",
        "colab": {}
      },
      "cell_type": "code",
      "source": [
        "Gloss = tf.reduce_mean(tf.log(Dfake))"
      ],
      "execution_count": 0,
      "outputs": []
    },
    {
      "metadata": {
        "id": "LSAby2RiAd1d",
        "colab_type": "code",
        "colab": {}
      },
      "cell_type": "code",
      "source": [
        "Dloss = tf.reduce_mean(tf.log(Dreal)+tf.log(1.0-Dfake))"
      ],
      "execution_count": 0,
      "outputs": []
    },
    {
      "metadata": {
        "id": "ElG0ZpelBNj1",
        "colab_type": "code",
        "colab": {}
      },
      "cell_type": "code",
      "source": [
        "optimizerG = tf.train.AdamOptimizer(learning_rate)"
      ],
      "execution_count": 0,
      "outputs": []
    },
    {
      "metadata": {
        "id": "Vl5TTA5uHCug",
        "colab_type": "code",
        "colab": {}
      },
      "cell_type": "code",
      "source": [
        "optimizerD = tf.train.AdamOptimizer(learning_rate)"
      ],
      "execution_count": 0,
      "outputs": []
    },
    {
      "metadata": {
        "id": "iUQI3Je_ITwG",
        "colab_type": "code",
        "colab": {}
      },
      "cell_type": "code",
      "source": [
        "Dvars = [weights['d1'], weights['d2'], biases['d1'], biases['d2']]"
      ],
      "execution_count": 0,
      "outputs": []
    },
    {
      "metadata": {
        "id": "AmGxJSF2IT50",
        "colab_type": "code",
        "colab": {}
      },
      "cell_type": "code",
      "source": [
        "Gvars = [weights['g1'], weights['g2'],biases['g1'], biases['g2']]"
      ],
      "execution_count": 0,
      "outputs": []
    },
    {
      "metadata": {
        "id": "Xz-tlo6nH6-x",
        "colab_type": "code",
        "colab": {}
      },
      "cell_type": "code",
      "source": [
        "trainG = optimizerG.minimize(Gloss,var_list=Gvars)"
      ],
      "execution_count": 0,
      "outputs": []
    },
    {
      "metadata": {
        "id": "RX-Le-abH_c8",
        "colab_type": "code",
        "colab": {}
      },
      "cell_type": "code",
      "source": [
        "trainD = optimizerG.minimize(Dloss,var_list=Dvars)"
      ],
      "execution_count": 0,
      "outputs": []
    },
    {
      "metadata": {
        "id": "FJCv73dBHJd_",
        "colab_type": "code",
        "colab": {}
      },
      "cell_type": "code",
      "source": [
        "init = tf.global_variables_initializer()"
      ],
      "execution_count": 0,
      "outputs": []
    },
    {
      "metadata": {
        "id": "s9P3Q2Q-H1Qm",
        "colab_type": "code",
        "colab": {}
      },
      "cell_type": "code",
      "source": [
        "with tf.Session() as sess:\n",
        "  sess.run(init)\n",
        "  for i in range(1,num_steps+1):\n",
        "    Xbatch,Ybatch = mnist.train.next_batch(bsize)\n",
        "    noise = np.random.uniform(-1.0,1.0,size=[bsize,nd])\n",
        "    feed_dict = {D: Xbatch, G: noise}\n",
        "    _, _, gl, dl = sess.run([trainG, trainD, Gloss, Dloss],feed_dict=feed_dict)\n",
        "    if i % 1000 == 0 or i == 1:\n",
        "      print('Step %i: Generator Loss: %f, Discriminator Loss: %f' % (i, gl, dl))"
      ],
      "execution_count": 0,
      "outputs": []
    },
    {
      "metadata": {
        "id": "xieIn9iuJKRO",
        "colab_type": "code",
        "colab": {}
      },
      "cell_type": "code",
      "source": [
        ""
      ],
      "execution_count": 0,
      "outputs": []
    }
  ]
}