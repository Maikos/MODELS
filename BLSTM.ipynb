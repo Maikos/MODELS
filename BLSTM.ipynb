{
  "nbformat": 4,
  "nbformat_minor": 0,
  "metadata": {
    "colab": {
      "name": "RNN.ipynb",
      "version": "0.3.2",
      "provenance": [],
      "collapsed_sections": []
    },
    "kernelspec": {
      "name": "python3",
      "display_name": "Python 3"
    },
    "accelerator": "GPU"
  },
  "cells": [
    {
      "metadata": {
        "id": "TACUgMXnXRdD",
        "colab_type": "code",
        "colab": {}
      },
      "cell_type": "code",
      "source": [
        "import matplotlib.pyplot as plt\n",
        "import numpy as np\n",
        "import tensorflow as tf\n",
        "from tensorflow.contrib import rnn"
      ],
      "execution_count": 0,
      "outputs": []
    },
    {
      "metadata": {
        "id": "MYsoJds_1gON",
        "colab_type": "code",
        "colab": {}
      },
      "cell_type": "code",
      "source": [
        "from tensorflow.examples.tutorials.mnist import input_data\n",
        "mnist = input_data.read_data_sets(\"/tmp/data/\", one_hot=True)"
      ],
      "execution_count": 0,
      "outputs": []
    },
    {
      "metadata": {
        "id": "CVuiRZSa4lmA",
        "colab_type": "code",
        "colab": {}
      },
      "cell_type": "code",
      "source": [
        "learning_rate = 0.001\n",
        "num_steps = 10000\n",
        "batch_size = 128\n",
        "display_step = 200\n",
        "timesteps = 28"
      ],
      "execution_count": 0,
      "outputs": []
    },
    {
      "metadata": {
        "id": "caUc7O4tXSA1",
        "colab_type": "code",
        "colab": {}
      },
      "cell_type": "code",
      "source": [
        "X = tf.placeholder(tf.float32,[None,timesteps,28])"
      ],
      "execution_count": 0,
      "outputs": []
    },
    {
      "metadata": {
        "id": "j80f-OTi11uD",
        "colab_type": "code",
        "colab": {}
      },
      "cell_type": "code",
      "source": [
        "Y = tf.placeholder(tf.float32,[None,10])"
      ],
      "execution_count": 0,
      "outputs": []
    },
    {
      "metadata": {
        "id": "QkxvieVQ2GDI",
        "colab_type": "code",
        "colab": {}
      },
      "cell_type": "code",
      "source": [
        "shape = [256,10]"
      ],
      "execution_count": 0,
      "outputs": []
    },
    {
      "metadata": {
        "id": "ameSZnYK18Cx",
        "colab_type": "code",
        "colab": {}
      },
      "cell_type": "code",
      "source": [
        "Wout = tf.Variable(tf.random_normal(shape))"
      ],
      "execution_count": 0,
      "outputs": []
    },
    {
      "metadata": {
        "id": "s3wlOlAJ2eeO",
        "colab_type": "code",
        "colab": {}
      },
      "cell_type": "code",
      "source": [
        "bout = tf.Variable(tf.random_normal([10]))"
      ],
      "execution_count": 0,
      "outputs": []
    },
    {
      "metadata": {
        "id": "VqfuLOCX2qOU",
        "colab_type": "code",
        "colab": {}
      },
      "cell_type": "code",
      "source": [
        "def bidirectional_rnn(X,Wout,bout):\n",
        "  X = tf.unstack(X, timesteps, 1)\n",
        "  forward = tf.nn.rnn_cell.LSTMCell(128,forget_bias=1.0,reuse=True)\n",
        "  backward = tf.nn.rnn_cell.LSTMCell(128,forget_bias=1.0,reuse=True)\n",
        "  \n",
        "  out,_,_ = tf.nn.static_bidirectional_rnn(forward,backward,X,dtype=tf.float32)\n",
        "  return tf.matmul(out[-1], Wout) + bout"
      ],
      "execution_count": 0,
      "outputs": []
    },
    {
      "metadata": {
        "id": "DyCLIUNl21zr",
        "colab_type": "code",
        "colab": {}
      },
      "cell_type": "code",
      "source": [
        "logits = bidirectional_rnn(X, Wout, bout)\n"
      ],
      "execution_count": 0,
      "outputs": []
    },
    {
      "metadata": {
        "id": "6b_nSFyO23ef",
        "colab_type": "code",
        "colab": {}
      },
      "cell_type": "code",
      "source": [
        "prediction = tf.nn.softmax(logits)"
      ],
      "execution_count": 0,
      "outputs": []
    },
    {
      "metadata": {
        "id": "tkL6j36O6Gc1",
        "colab_type": "code",
        "colab": {}
      },
      "cell_type": "code",
      "source": [
        "optimizer = tf.train.GradientDescentOptimizer(learning_rate=learning_rate)"
      ],
      "execution_count": 0,
      "outputs": []
    },
    {
      "metadata": {
        "id": "IAT19sp9ycmA",
        "colab_type": "code",
        "colab": {}
      },
      "cell_type": "code",
      "source": [
        "loss = tf.reduce_mean(tf.nn.softmax_cross_entropy_with_logits_v2(logits=logits,labels=Y))"
      ],
      "execution_count": 0,
      "outputs": []
    },
    {
      "metadata": {
        "id": "8U9jl8OFyRaZ",
        "colab_type": "code",
        "colab": {}
      },
      "cell_type": "code",
      "source": [
        "train = optimizer.minimize(loss)"
      ],
      "execution_count": 0,
      "outputs": []
    },
    {
      "metadata": {
        "id": "_RnPkEDY2qOX",
        "colab_type": "code",
        "colab": {}
      },
      "cell_type": "code",
      "source": [
        "pred = tf.equal(tf.argmax(prediction, 1), tf.argmax(Y, 1))"
      ],
      "execution_count": 0,
      "outputs": []
    },
    {
      "metadata": {
        "id": "H5ZLprkT29sm",
        "colab_type": "code",
        "colab": {}
      },
      "cell_type": "code",
      "source": [
        "accuracy = tf.reduce_mean(tf.cast(pred,tf.float32))"
      ],
      "execution_count": 0,
      "outputs": []
    },
    {
      "metadata": {
        "id": "hhsEvjJsyU6m",
        "colab_type": "code",
        "colab": {}
      },
      "cell_type": "code",
      "source": [
        "init = tf.global_variables_initializer()"
      ],
      "execution_count": 0,
      "outputs": []
    },
    {
      "metadata": {
        "id": "SYfA9vGdy_9D",
        "colab_type": "code",
        "colab": {
          "base_uri": "https://localhost:8080/",
          "height": 901
        },
        "outputId": "435f6b60-d62f-4743-b186-eb1dcb87c35f"
      },
      "cell_type": "code",
      "source": [
        "with tf.Session() as sess:\n",
        "  sess.run(init)\n",
        "  for i in range(num_steps):\n",
        "    Xbatch,Ybatch = mnist.train.next_batch(batch_size)\n",
        "    shapeX = Xbatch.shape\n",
        "    Xbatch = Xbatch.reshape((batch_size, timesteps, 28))\n",
        "    sess.run(train,feed_dict={X:Xbatch,Y:Ybatch})\n",
        "    if i % display_step == 0 or i == 1:\n",
        "      Xloss,Xaccuracy = sess.run([loss,accuracy], feed_dict={X:Xbatch,Y:Ybatch})\n",
        "      print('Step:',i,' Loss:',Xloss,'accuracy:', Xaccuracy)\n",
        "  print('exit')"
      ],
      "execution_count": 92,
      "outputs": [
        {
          "output_type": "stream",
          "text": [
            "Step: 0  Loss: 2.407371 accuracy: 0.1484375\n",
            "Step: 1  Loss: 2.4539318 accuracy: 0.140625\n",
            "Step: 200  Loss: 2.14481 accuracy: 0.15625\n",
            "Step: 400  Loss: 1.8626454 accuracy: 0.359375\n",
            "Step: 600  Loss: 1.781116 accuracy: 0.4296875\n",
            "Step: 800  Loss: 1.6960349 accuracy: 0.5234375\n",
            "Step: 1000  Loss: 1.5076399 accuracy: 0.578125\n",
            "Step: 1200  Loss: 1.4606442 accuracy: 0.5625\n",
            "Step: 1400  Loss: 1.3479272 accuracy: 0.6015625\n",
            "Step: 1600  Loss: 1.4682547 accuracy: 0.46875\n",
            "Step: 1800  Loss: 1.3716707 accuracy: 0.5625\n",
            "Step: 2000  Loss: 1.2347639 accuracy: 0.6171875\n",
            "Step: 2200  Loss: 1.2763014 accuracy: 0.5625\n",
            "Step: 2400  Loss: 1.1801317 accuracy: 0.6171875\n",
            "Step: 2600  Loss: 1.1208371 accuracy: 0.6640625\n",
            "Step: 2800  Loss: 0.9718823 accuracy: 0.7109375\n",
            "Step: 3000  Loss: 1.010786 accuracy: 0.703125\n",
            "Step: 3200  Loss: 0.94631654 accuracy: 0.6875\n",
            "Step: 3400  Loss: 1.0247387 accuracy: 0.6875\n",
            "Step: 3600  Loss: 0.9182197 accuracy: 0.71875\n",
            "Step: 3800  Loss: 0.87618977 accuracy: 0.7578125\n",
            "Step: 4000  Loss: 0.87464833 accuracy: 0.6953125\n",
            "Step: 4200  Loss: 0.9779018 accuracy: 0.6640625\n",
            "Step: 4400  Loss: 0.8550001 accuracy: 0.6953125\n",
            "Step: 4600  Loss: 0.8784473 accuracy: 0.7265625\n",
            "Step: 4800  Loss: 0.8006877 accuracy: 0.75\n",
            "Step: 5000  Loss: 0.85857844 accuracy: 0.71875\n",
            "Step: 5200  Loss: 0.64816093 accuracy: 0.8359375\n",
            "Step: 5400  Loss: 0.76846063 accuracy: 0.765625\n",
            "Step: 5600  Loss: 0.70093757 accuracy: 0.78125\n",
            "Step: 5800  Loss: 0.7068881 accuracy: 0.7734375\n",
            "Step: 6000  Loss: 0.7915092 accuracy: 0.7265625\n",
            "Step: 6200  Loss: 0.73285246 accuracy: 0.7578125\n",
            "Step: 6400  Loss: 0.76735663 accuracy: 0.765625\n",
            "Step: 6600  Loss: 0.61002207 accuracy: 0.8203125\n",
            "Step: 6800  Loss: 0.55186677 accuracy: 0.8359375\n",
            "Step: 7000  Loss: 0.71471953 accuracy: 0.75\n",
            "Step: 7200  Loss: 0.7103908 accuracy: 0.75\n",
            "Step: 7400  Loss: 0.5570556 accuracy: 0.78125\n",
            "Step: 7600  Loss: 0.56604916 accuracy: 0.8203125\n",
            "Step: 7800  Loss: 0.61858755 accuracy: 0.828125\n",
            "Step: 8000  Loss: 0.49813664 accuracy: 0.8515625\n",
            "Step: 8200  Loss: 0.4850742 accuracy: 0.8515625\n",
            "Step: 8400  Loss: 0.47400135 accuracy: 0.859375\n",
            "Step: 8600  Loss: 0.47498268 accuracy: 0.8359375\n",
            "Step: 8800  Loss: 0.5640013 accuracy: 0.8515625\n",
            "Step: 9000  Loss: 0.50044864 accuracy: 0.84375\n",
            "Step: 9200  Loss: 0.5008894 accuracy: 0.8359375\n",
            "Step: 9400  Loss: 0.32846022 accuracy: 0.9140625\n",
            "Step: 9600  Loss: 0.47424057 accuracy: 0.859375\n",
            "Step: 9800  Loss: 0.5641378 accuracy: 0.8359375\n",
            "exit\n"
          ],
          "name": "stdout"
        }
      ]
    },
    {
      "metadata": {
        "id": "erXGheuiGTIZ",
        "colab_type": "code",
        "colab": {}
      },
      "cell_type": "code",
      "source": [
        ""
      ],
      "execution_count": 0,
      "outputs": []
    }
  ]
}