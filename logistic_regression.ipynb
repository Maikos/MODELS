{
  "nbformat": 4,
  "nbformat_minor": 0,
  "metadata": {
    "colab": {
      "name": "bloknot.ipynb",
      "version": "0.3.2",
      "provenance": []
    },
    "kernelspec": {
      "name": "python3",
      "display_name": "Python 3"
    }
  },
  "cells": [
    {
      "metadata": {
        "id": "IB0w0RbepMJV",
        "colab_type": "code",
        "colab": {}
      },
      "cell_type": "code",
      "source": [
        "import tensorflow as tf\n",
        "from tensorflow.python.client import device_lib\n",
        "import time"
      ],
      "execution_count": 0,
      "outputs": []
    },
    {
      "metadata": {
        "id": "zM3tSXqSIGTo",
        "colab_type": "code",
        "colab": {}
      },
      "cell_type": "code",
      "source": [
        "from tensorflow.examples.tutorials.mnist import input_data"
      ],
      "execution_count": 0,
      "outputs": []
    },
    {
      "metadata": {
        "id": "U1POAk1WKC_8",
        "colab_type": "text"
      },
      "cell_type": "markdown",
      "source": [
        "#DATA"
      ]
    },
    {
      "metadata": {
        "id": "uNNnPFPEIV9J",
        "colab_type": "code",
        "colab": {
          "base_uri": "https://localhost:8080/",
          "height": 87
        },
        "outputId": "1e899859-7ec8-4b08-ae1e-ff77a0788419"
      },
      "cell_type": "code",
      "source": [
        "mnist = input_data.read_data_sets('/tmp/data/', one_hot = True)"
      ],
      "execution_count": 85,
      "outputs": [
        {
          "output_type": "stream",
          "text": [
            "Extracting /tmp/data/train-images-idx3-ubyte.gz\n",
            "Extracting /tmp/data/train-labels-idx1-ubyte.gz\n",
            "Extracting /tmp/data/t10k-images-idx3-ubyte.gz\n",
            "Extracting /tmp/data/t10k-labels-idx1-ubyte.gz\n"
          ],
          "name": "stdout"
        }
      ]
    },
    {
      "metadata": {
        "id": "PvPwp-XCIWoP",
        "colab_type": "text"
      },
      "cell_type": "markdown",
      "source": [
        "#global vars\n"
      ]
    },
    {
      "metadata": {
        "id": "j-jwzAIYGP1e",
        "colab_type": "code",
        "colab": {}
      },
      "cell_type": "code",
      "source": [
        "learning_rate = 0.01\n",
        "training_epochs = 25\n",
        "batch_size = 100\n",
        "display_step = 1\n",
        "shape = [4,4]"
      ],
      "execution_count": 0,
      "outputs": []
    },
    {
      "metadata": {
        "id": "ov99yNeJKKwU",
        "colab_type": "text"
      },
      "cell_type": "markdown",
      "source": [
        "#placeholders"
      ]
    },
    {
      "metadata": {
        "id": "99AL5N_bKR1c",
        "colab_type": "code",
        "colab": {}
      },
      "cell_type": "code",
      "source": [
        "x = tf.placeholder(tf.float32,[None,784])"
      ],
      "execution_count": 0,
      "outputs": []
    },
    {
      "metadata": {
        "id": "DZqqsm-PKkDZ",
        "colab_type": "code",
        "colab": {}
      },
      "cell_type": "code",
      "source": [
        "y = tf.placeholder(tf.float32,[None,10])"
      ],
      "execution_count": 0,
      "outputs": []
    },
    {
      "metadata": {
        "id": "oH96x1aCJevc",
        "colab_type": "text"
      },
      "cell_type": "markdown",
      "source": [
        "#local vars"
      ]
    },
    {
      "metadata": {
        "id": "jzAJvp5nECb6",
        "colab_type": "code",
        "colab": {}
      },
      "cell_type": "code",
      "source": [
        "W = tf.Variable(tf.zeros([784,10]))"
      ],
      "execution_count": 0,
      "outputs": []
    },
    {
      "metadata": {
        "id": "SVkHoN5RGUqC",
        "colab_type": "code",
        "colab": {}
      },
      "cell_type": "code",
      "source": [
        "b = tf.Variable(tf.zeros([10]))"
      ],
      "execution_count": 0,
      "outputs": []
    },
    {
      "metadata": {
        "id": "rJZ22TN_JiWa",
        "colab_type": "text"
      },
      "cell_type": "markdown",
      "source": [
        "#MODEL"
      ]
    },
    {
      "metadata": {
        "id": "gf7drZ83pneB",
        "colab_type": "code",
        "colab": {}
      },
      "cell_type": "code",
      "source": [
        "pred = tf.nn.softmax(tf.matmul(x,W)+b)"
      ],
      "execution_count": 0,
      "outputs": []
    },
    {
      "metadata": {
        "id": "wxlGmRMuNeIW",
        "colab_type": "text"
      },
      "cell_type": "markdown",
      "source": [
        "#cross entropy"
      ]
    },
    {
      "metadata": {
        "id": "t4jtTp5bNi0q",
        "colab_type": "code",
        "colab": {}
      },
      "cell_type": "code",
      "source": [
        "cross = tf.reduce_mean(-tf.reduce_sum(y*tf.log(pred),reduction_indices=1))"
      ],
      "execution_count": 0,
      "outputs": []
    },
    {
      "metadata": {
        "id": "mgwKrOR9OYE_",
        "colab_type": "text"
      },
      "cell_type": "markdown",
      "source": [
        "#OPTIMIZER"
      ]
    },
    {
      "metadata": {
        "id": "1eO2MCPYOa28",
        "colab_type": "code",
        "colab": {}
      },
      "cell_type": "code",
      "source": [
        "optimizer = tf.train.GradientDescentOptimizer(learning_rate).minimize(cross)"
      ],
      "execution_count": 0,
      "outputs": []
    },
    {
      "metadata": {
        "id": "sHRAv99pJuXy",
        "colab_type": "text"
      },
      "cell_type": "markdown",
      "source": [
        "#initializer"
      ]
    },
    {
      "metadata": {
        "id": "QnN3n7K7MHMn",
        "colab_type": "code",
        "colab": {}
      },
      "cell_type": "code",
      "source": [
        "init = tf.global_variables_initializer()"
      ],
      "execution_count": 0,
      "outputs": []
    },
    {
      "metadata": {
        "id": "98hxMgLgJ3V2",
        "colab_type": "text"
      },
      "cell_type": "markdown",
      "source": [
        "#SESSION"
      ]
    },
    {
      "metadata": {
        "id": "Cd2p1Z2JJ8Ft",
        "colab_type": "code",
        "colab": {
          "base_uri": "https://localhost:8080/",
          "height": 958
        },
        "outputId": "f1b11ef7-692a-46d4-b6af-b656d4701f7e"
      },
      "cell_type": "code",
      "source": [
        "\n",
        "with tf.Session() as sess:\n",
        "  sess.run(init)\n",
        "  t1 = time.time()\n",
        "  for epoch in range(training_epochs):\n",
        "    ts = time.time()\n",
        "    avg_cost = 0.\n",
        "    total_batch = int(mnist.train.num_examples/batch_size)\n",
        "    for i in range(total_batch):\n",
        "      batch_xs, batch_ys = mnist.train.next_batch(batch_size)\n",
        "      _, c = sess.run([optimizer,cross],feed_dict={x:batch_xs,y:batch_ys})\n",
        "      avg_cost += c / total_batch\n",
        "      te = time.time()\n",
        "    to = te-ts\n",
        "    if (epoch+1) % display_step == 0:\n",
        "      print(\"Epoch:\", '%04d' % (epoch+1), \"cost=\", \"{:.9f}\".format(avg_cost))\n",
        "      print(to)\n",
        "     \n",
        "  t2 = time.time()\n",
        "  total = t2 - t1\n",
        "  print(\"Optimization Finished!\")\n",
        "  print(total)\n",
        "\n",
        "  # Test model\n",
        "  correct_prediction = tf.equal(tf.argmax(pred, 1), tf.argmax(y, 1))\n",
        "  # Calculate accuracy\n",
        "  accuracy = tf.reduce_mean(tf.cast(correct_prediction, tf.float32))\n",
        "  print(\"Accuracy:\", accuracy.eval({x: mnist.test.images, y: mnist.test.labels}))"
      ],
      "execution_count": 95,
      "outputs": [
        {
          "output_type": "stream",
          "text": [
            "Epoch: 0001 cost= 1.183757038\n",
            "1.1456313133239746\n",
            "Epoch: 0002 cost= 0.665269729\n",
            "0.6667122840881348\n",
            "Epoch: 0003 cost= 0.552816101\n",
            "0.67167067527771\n",
            "Epoch: 0004 cost= 0.498669332\n",
            "0.6529130935668945\n",
            "Epoch: 0005 cost= 0.465536741\n",
            "0.6637117862701416\n",
            "Epoch: 0006 cost= 0.442607054\n",
            "0.6524078845977783\n",
            "Epoch: 0007 cost= 0.425571795\n",
            "0.6540670394897461\n",
            "Epoch: 0008 cost= 0.412221548\n",
            "0.6628515720367432\n",
            "Epoch: 0009 cost= 0.401398357\n",
            "0.6623101234436035\n",
            "Epoch: 0010 cost= 0.392435822\n",
            "0.653374433517456\n",
            "Epoch: 0011 cost= 0.384783918\n",
            "0.6617693901062012\n",
            "Epoch: 0012 cost= 0.378177143\n",
            "0.661888599395752\n",
            "Epoch: 0013 cost= 0.372438012\n",
            "0.6594014167785645\n",
            "Epoch: 0014 cost= 0.367298125\n",
            "0.6669249534606934\n",
            "Epoch: 0015 cost= 0.362737996\n",
            "0.660987377166748\n",
            "Epoch: 0016 cost= 0.358646741\n",
            "0.6486730575561523\n",
            "Epoch: 0017 cost= 0.354875001\n",
            "0.6811175346374512\n",
            "Epoch: 0018 cost= 0.351427329\n",
            "0.6569695472717285\n",
            "Epoch: 0019 cost= 0.348346226\n",
            "0.6638095378875732\n",
            "Epoch: 0020 cost= 0.345444440\n",
            "0.6584374904632568\n",
            "Epoch: 0021 cost= 0.342768954\n",
            "0.6539013385772705\n",
            "Epoch: 0022 cost= 0.340259312\n",
            "0.6584746837615967\n",
            "Epoch: 0023 cost= 0.337937789\n",
            "0.6582491397857666\n",
            "Epoch: 0024 cost= 0.335692308\n",
            "0.6547641754150391\n",
            "Epoch: 0025 cost= 0.333690811\n",
            "0.6602637767791748\n",
            "Optimization Finished!\n",
            "17.01217532157898\n",
            "Accuracy: 0.9143\n"
          ],
          "name": "stdout"
        }
      ]
    },
    {
      "metadata": {
        "id": "n46_woiYFSGB",
        "colab_type": "code",
        "colab": {}
      },
      "cell_type": "code",
      "source": [
        ""
      ],
      "execution_count": 0,
      "outputs": []
    }
  ]
}